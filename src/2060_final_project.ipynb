{
 "cells": [
  {
   "cell_type": "markdown",
   "metadata": {},
   "source": [
    "**DATA 2060 Final Project**\n",
    "-"
   ]
  },
  {
   "cell_type": "markdown",
   "metadata": {},
   "source": []
  },
  {
   "cell_type": "markdown",
   "metadata": {},
   "source": [
    "Markdown\n",
    "-"
   ]
  },
  {
   "cell_type": "markdown",
   "metadata": {},
   "source": []
  },
  {
   "cell_type": "markdown",
   "metadata": {},
   "source": [
    "Model\n",
    "-"
   ]
  },
  {
   "cell_type": "code",
   "execution_count": null,
   "metadata": {},
   "outputs": [],
   "source": [
    "import pandas as pd\n",
    "import numpy as np\n",
    "\n",
    "class GaussianNaiveBayes(object):\n",
    "    \"\"\"Gaussian Naive Bayes model\n",
    "    \n",
    "    @attributes:\n",
    "        n_classes: number of classes\n",
    "            for our dataset, we will have 2 classes (yes heart disease and no heart disease)\n",
    "        attr_dist: n_classes x n_attributes NumPy array of attributes (2-D array)\n",
    "        label_priors: NumPy array of the priors distribution (1-D array)\n",
    "    \"\"\"\n",
    "\n",
    "    def __init__(self, n_classes):\n",
    "        ''' \n",
    "        Notes here\n",
    "        '''\n",
    "        self.n_classes = n_classes\n",
    "        self.attr_dist = None\n",
    "        self.label_priors = None\n",
    "\n",
    "    def train(self, X_train, y_train):\n",
    "        '''\n",
    "        Notes here\n",
    "            - from HW 06 so not altered for Gaussian\n",
    "        '''\n",
    "        # Estimate label/class priors with Laplace smoothing\n",
    "        self.label_priors = np.bincount(y_train, minlength=self.n_classes)\n",
    "        self.label_priors += 1\n",
    "        self.label_priors = self.label_priors/np.sum(self.label_priors)\n",
    "\n",
    "        # Estimate attribute priors with Laplace smoothing\n",
    "        mat = np.zeros((self.n_classes, X_train.shape[1]))  # n_classes x n_attributes\n",
    "        for i, y in enumerate(y_train):\n",
    "            mat[y] += X_train[i] \n",
    "\n",
    "        mat += 1\n",
    "        row_sums = np.bincount(y_train, minlength=self.n_classes)\n",
    "\n",
    "        self.attr_dist = mat/(row_sums[:, np.newaxis] + 2)  \n",
    "        return self.attr_dist, self.label_priors\n",
    "\n",
    "    def predict(self, inputs):\n",
    "        pass\n",
    "\n",
    "    def loss(self, inputs):\n",
    "        ''' \n",
    "        \n",
    "        '''\n",
    "\n",
    "    def accuracy(self, X_test, y_test):\n",
    "        '''\n",
    "        Calculate 0-1 loss over predictions.\n",
    "        @params:\n",
    "            X_test: 2D array (n_examples x n_attributes) where each row is an example and each column is a feature/attribute\n",
    "            _test: 1D array where each entry corresponds to the label for a row in X\n",
    "        @return:\n",
    "            0-1 loss for the input data and associated labels\n",
    "        '''\n",
    "        acc = 0\n",
    "        predictions = self.predict(X_test)\n",
    "        for i in range(len(y_test)):\n",
    "            if predictions[i] == y_test[i]:\n",
    "                acc += 1\n",
    "        return acc/len(y_test)\n",
    "\n",
    "\n"
   ]
  },
  {
   "cell_type": "markdown",
   "metadata": {},
   "source": [
    "Check Model\n",
    "-"
   ]
  },
  {
   "cell_type": "code",
   "execution_count": null,
   "metadata": {},
   "outputs": [],
   "source": []
  },
  {
   "cell_type": "markdown",
   "metadata": {},
   "source": [
    "Main\n",
    "-"
   ]
  },
  {
   "cell_type": "code",
   "execution_count": null,
   "metadata": {},
   "outputs": [],
   "source": []
  }
 ],
 "metadata": {
  "kernelspec": {
   "display_name": "data2060",
   "language": "python",
   "name": "python3"
  },
  "language_info": {
   "codemirror_mode": {
    "name": "ipython",
    "version": 3
   },
   "file_extension": ".py",
   "mimetype": "text/x-python",
   "name": "python",
   "nbconvert_exporter": "python",
   "pygments_lexer": "ipython3",
   "version": "3.12.5"
  }
 },
 "nbformat": 4,
 "nbformat_minor": 2
}
